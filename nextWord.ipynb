{
 "cells": [
  {
   "cell_type": "code",
   "execution_count": null,
   "metadata": {},
   "outputs": [],
   "source": [
    "%pip install sentencepiece\n",
    "\n",
    "%pip install transformers"
   ]
  },
  {
   "cell_type": "code",
   "execution_count": null,
   "metadata": {},
   "outputs": [],
   "source": [
    "import os\n",
    "import torch\n",
    "from torch.nn import functional as F\n",
    "import string\n",
    "from transformers import BertTokenizer, BertForMaskedLM, XLNetTokenizer, XLNetModel, AutoModelWithLMHead, AutoTokenizer, top_k_top_p_filtering, logging\n",
    "logging.set_verbosity_error()"
   ]
  },
  {
   "cell_type": "code",
   "execution_count": null,
   "metadata": {},
   "outputs": [],
   "source": [
    "no_words_to_be_predicted = globals()\n",
    "select_model = globals()\n",
    "enter_input_text = globals()"
   ]
  },
  {
   "cell_type": "code",
   "execution_count": null,
   "metadata": {},
   "outputs": [],
   "source": [
    "def set_model_config(**kwargs):\n",
    "  for key, value in kwargs.items():\n",
    "    print(\"{0} = {1}\".format(key, value))\n",
    "  \n",
    "  no_words_to_be_predicted = list(kwargs.values())[0] # integer values\n",
    "  select_model = list(kwargs.values())[1] # possible values = 'bert' or 'gpt' or 'xlnet'\n",
    "  enter_input_text = list(kwargs.values())[2] #only string\n",
    "\n",
    "  return no_words_to_be_predicted, select_model, enter_input_text"
   ]
  },
  {
   "cell_type": "code",
   "execution_count": null,
   "metadata": {},
   "outputs": [],
   "source": [
    "def load_model(model_name):\n",
    "  try:\n",
    "    if model_name.lower() == \"bert\":\n",
    "      bert_tokenizer = BertTokenizer.from_pretrained('bert-base-uncased')\n",
    "      bert_model = BertForMaskedLM.from_pretrained('bert-base-uncased').eval()\n",
    "      return bert_tokenizer,bert_model\n",
    "    elif model_name.lower() == \"gpt\":\n",
    "      gpt_tokenizer = AutoTokenizer.from_pretrained(\"gpt2\")\n",
    "      gpt_model = AutoModelWithLMHead.from_pretrained(\"gpt2\")\n",
    "      return gpt_tokenizer,gpt_model\n",
    "    else:\n",
    "      xlnet_tokenizer = AutoTokenizer.from_pretrained(\"xlnet-base-cased\")\n",
    "      xlnet_model = AutoModelWithLMHead.from_pretrained(\"xlnet-base-cased\")\n",
    "      return xlnet_tokenizer, xlnet_model\n",
    "  except Exception as e:\n",
    "    pass"
   ]
  },
  {
   "cell_type": "code",
   "execution_count": null,
   "metadata": {},
   "outputs": [],
   "source": [
    "def encode_bert(tokenizer, text_sentence, add_special_tokens=True):\n",
    "  text_sentence = text_sentence.replace('<mask>', tokenizer.mask_token)\n",
    "  # if <mask> is the last token, append a \".\" so that models dont predict punctuation.\n",
    "  if tokenizer.mask_token == text_sentence.split()[-1]:\n",
    "    text_sentence += ' .'\n",
    "    input_ids = torch.tensor([tokenizer.encode(text_sentence, add_special_tokens=add_special_tokens)])\n",
    "    mask_idx = torch.where(input_ids == tokenizer.mask_token_id)[1].tolist()[0]\n",
    "  return input_ids, mask_idx\n",
    "\n",
    "def decode_bert(tokenizer, pred_idx, top_clean):\n",
    "  ignore_tokens = string.punctuation + '[PAD]'\n",
    "  tokens = []\n",
    "  for w in pred_idx:\n",
    "    token = ''.join(tokenizer.decode(w).split())\n",
    "    if token not in ignore_tokens:\n",
    "      tokens.append(token.replace('##', ''))\n",
    "  return '\\n'.join(tokens[:top_clean])"
   ]
  },
  {
   "cell_type": "code",
   "execution_count": null,
   "metadata": {},
   "outputs": [],
   "source": [
    "def encode_gpt(tokenizer, text_sentence, add_special_tokens=False):\n",
    "  input_ids = tokenizer.encode(text_sentence, return_tensors=\"pt\")\n",
    "  return input_ids\n",
    "\n",
    "# gpt decode\n",
    "def decode_gpt(tokenizer, input_ids, pred, top_clean):\n",
    "  filtered_next_token_logits = top_k_top_p_filtering(pred, top_k=top_clean, top_p=1.0)\n",
    "\n",
    "  # sample\n",
    "  probs = F.softmax(filtered_next_token_logits, dim=-1)\n",
    "  next_token = torch.multinomial(probs, num_samples=top_clean)\n",
    "  generated = torch.cat([input_ids, next_token], dim=-1)  \n",
    "  resulting_string = tokenizer.decode(generated.tolist()[0])\n",
    "  return resulting_string"
   ]
  },
  {
   "cell_type": "code",
   "execution_count": null,
   "metadata": {},
   "outputs": [],
   "source": [
    "# xlnet encode\n",
    "def encode_xlnet(tokenizer, text_sentence):\n",
    "  PADDING_TEXT = \"\"\"animal or thing <eod> </s> <eos>\"\"\"\n",
    "  input_ids = tokenizer.encode(PADDING_TEXT + text_sentence, add_special_tokens=False, return_tensors=\"pt\")\n",
    "  return input_ids\n",
    "\n",
    "def decode_xlnet(text_sentence, tokenizer, pred, prompt_length):\n",
    "  resulting_string = text_sentence + tokenizer.decode(pred[0])[prompt_length:]\n",
    "  print(resulting_string)\n"
   ]
  },
  {
   "cell_type": "code",
   "execution_count": null,
   "metadata": {},
   "outputs": [],
   "source": [
    "def get_all_predictions(text_sentence,  model_name, top_clean=5):\n",
    "  if model_name.lower() == \"bert\":\n",
    "    # ========================= BERT =================================\n",
    "    input_ids, mask_idx = encode_bert(bert_tokenizer, text_sentence)\n",
    "    with torch.no_grad():\n",
    "      predict = bert_model(input_ids)[0]\n",
    "    bert = decode_bert(bert_tokenizer, predict[0, mask_idx, :].topk(no_words_to_be_predicted).indices.tolist(), top_clean)\n",
    "    return {'bert': bert}\n",
    "\n",
    "  elif model_name.lower() == \"gpt\":\n",
    "    # ========================= GPT =================================\n",
    "    input_ids = encode_gpt(gpt_tokenizer, text_sentence)\n",
    "    with torch.no_grad():\n",
    "      predict = gpt_model(input_ids)[0][:, -1, :]\n",
    "    gpt = decode_gpt(gpt_tokenizer, input_ids, predict, top_clean)\n",
    "    return {'gpt': gpt}\n",
    "\n",
    "  else:\n",
    "    # ========================= XLNet =================================\n",
    "    input_ids = encode_xlnet(xlnet_tokenizer, text_sentence)\n",
    "    with torch.no_grad():\n",
    "      prompt_length = len(xlnet_tokenizer.decode(input_ids[0], skip_special_tokens=True, clean_up_tokenization_spaces=True))\n",
    "      print(prompt_length)\n",
    "      predict = xlnet_model.generate(input_ids, max_length=prompt_length, do_sample=True, top_p=0.95, top_k=top_clean)\n",
    "    xlnet = text_sentence + xlnet_tokenizer.decode(predict[0])[prompt_length:]\n",
    "    #xlnet = decode_xlnet(text_sentence, xlnet_tokenizer, predict, prompt_length)\n",
    "    return {'xlnet': xlnet}\n"
   ]
  },
  {
   "cell_type": "code",
   "execution_count": null,
   "metadata": {},
   "outputs": [],
   "source": [
    "def get_prediction_end_of_sentence(input_text, model_name):\n",
    "  try:\n",
    "    if model_name.lower() == \"bert\":\n",
    "      input_text += ' <mask>'\n",
    "      print(input_text)\n",
    "      res = get_all_predictions(input_text, model_name, top_clean=int(no_words_to_be_predicted)) \n",
    "      return res\n",
    "    elif model_name.lower() == \"gpt\":\n",
    "      print(input_text)\n",
    "      res = get_all_predictions(input_text, model_name, top_clean=int(no_words_to_be_predicted)) \n",
    "      return res\n",
    "    else:\n",
    "      print(input_text)\n",
    "      res = get_all_predictions(input_text, model_name, top_clean=int(no_words_to_be_predicted))\n",
    "      return res\n",
    "\n",
    "  except Exception as error:\n",
    "    pass\n",
    "\n",
    "try:\n",
    "  print(\"Next Word Prediction with Pytorch using BERT, GPT, and XLNet\")\n",
    "  no_words_to_be_predicted, select_model, enter_input_text = set_model_config(no_words_to_be_predicted=10, select_model = \"xlnet\", enter_input_text = \"the sun is \")\n",
    "  if select_model.lower() == \"bert\":\n",
    "    bert_tokenizer, bert_model  = load_model(select_model)\n",
    "    res = get_prediction_end_of_sentence(enter_input_text, select_model)\n",
    "    print(\"result is: {}\" .format(res))\n",
    "    answer_bert = []\n",
    "    print(res['bert'].split(\"\\n\"))\n",
    "    for i in res['bert'].split(\"\\n\"):\n",
    "      answer_bert.append(i)\n",
    "      answer_as_string_bert = \"    \".join(answer_bert)\n",
    "      print(\"output answer is: {}\" .format(answer_as_string_bert))\n",
    "      #print(f\"Predicted List is Here: {answer_as_string_bert}\")\n",
    "\n",
    "  elif select_model.lower() == \"gpt\":\n",
    "    gpt_tokenizer, gpt_model  = load_model(select_model)\n",
    "    res = get_prediction_end_of_sentence(enter_input_text, select_model)\n",
    "    print(\"result is: {}\" .format(res))\n",
    "    answer_gpt = list()\n",
    "    print(res['gpt'].split(\"\\t\"))\n",
    "    for i in res['gpt'].split(\"\\t\"):\n",
    "      answer_gpt.append(i)\n",
    "      answer_as_string_gpt = \"    \".join(answer_gpt)\n",
    "      print(\"output answer is: {}\" .format(answer_as_string_gpt))\n",
    "      #print(f\"Predicted List is Here: {answer_as_string_gpt}\")\n",
    "\n",
    "  else:\n",
    "    xlnet_tokenizer, xlnet_model  = load_model(select_model)\n",
    "    res = get_prediction_end_of_sentence(enter_input_text, select_model)\n",
    "    print(\"result is: {}\" .format(res))\n",
    "    answer_gpt = list()\n",
    "    print(res['xlnet'].split(\"\\t\"))\n",
    "    for i in res['xlnet'].split(\"\\t\"):\n",
    "      answer_gpt.append(i)\n",
    "      answer_as_string_gpt = \"    \".join(answer_gpt)\n",
    "      print(\"output answer is: {}\" .format(answer_as_string_gpt))\n",
    "\n",
    "  \n",
    "except Exception as e:\n",
    "  print('Some problem occured')"
   ]
  },
  {
   "cell_type": "code",
   "execution_count": null,
   "metadata": {},
   "outputs": [],
   "source": []
  }
 ],
 "metadata": {
  "kernelspec": {
   "display_name": "base",
   "language": "python",
   "name": "python3"
  },
  "language_info": {
   "codemirror_mode": {
    "name": "ipython",
    "version": 3
   },
   "file_extension": ".py",
   "mimetype": "text/x-python",
   "name": "python",
   "nbconvert_exporter": "python",
   "pygments_lexer": "ipython3",
   "version": "3.9.12"
  }
 },
 "nbformat": 4,
 "nbformat_minor": 2
}
